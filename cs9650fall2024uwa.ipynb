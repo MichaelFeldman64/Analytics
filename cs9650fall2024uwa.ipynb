{
 "cells": [
  {
   "cell_type": "code",
   "execution_count": 2,
   "id": "85a35306",
   "metadata": {},
   "outputs": [],
   "source": [
    "#Final exam\n",
    "#Your name"
   ]
  },
  {
   "cell_type": "code",
   "execution_count": null,
   "id": "86e6cbee",
   "metadata": {},
   "outputs": [],
   "source": [
    "#1 there are two data dictionaries below - numbers and extensions \n",
    "# using the dictionaries the goal is to create python code that take input from the user (between 20 \n",
    "#and 99) and turn the number into its written format. For example 53 will become \"fifty three\"\n",
    "#(83 points)\n",
    "\n",
    "\n",
    "\n",
    "\n",
    "nums = {'0': 'zero',\n",
    "        '1': 'one',\n",
    "        '2': 'two',\n",
    "        '3': 'three',\n",
    "        '4': 'four',\n",
    "        '5': 'five',\n",
    "        '6': 'six',\n",
    "        '7': 'seven',\n",
    "        '8': 'eight',\n",
    "        '9': 'nine'\n",
    "        }\n",
    "\n",
    "ext = {\n",
    "        '2': 'twenty',\n",
    "        '3': 'thirty',\n",
    "        '4': 'fourty',\n",
    "        '5': 'fifty',\n",
    "        '6': 'sixty',\n",
    "        '7': 'seventy',\n",
    "        '8': 'eighty',\n",
    "        '9': 'ninety'\n",
    "        }"
   ]
  },
  {
   "cell_type": "code",
   "execution_count": 4,
   "id": "0700ad60",
   "metadata": {
    "scrolled": true
   },
   "outputs": [],
   "source": [
    "#2 #download the two files: lawyers.csv and lawyer_cases.csv from blackboad\n",
    "#the lawyer table has basic information on the lawyer (name, type of law they practice)\n",
    "#the lawyer_cases has table information on whether they won or lost the case, and if they won the case\n",
    "#or not. if they won the case, it states how much they won \n",
    "\n",
    "#print out the following at the end\n",
    "#which lawyer had the most total dollars?\n",
    "#which type of law won the the most total dollars?\n",
    "\n",
    "\n",
    "#note: the answer should contain the answer only, not a multi line dataset \n",
    "\n",
    "#(83 points)"
   ]
  },
  {
   "cell_type": "code",
   "execution_count": null,
   "id": "84786e17",
   "metadata": {},
   "outputs": [],
   "source": [
    "#3 the hsgfinal9650.csv dataset contains real estate information for an island. This file\n",
    "#was produced by a real estate company. the goal of the assignment is to predict the median house \n",
    "#value. Prepare the data and run a regression. You do not need to check for outliers. \n",
    "\n",
    "#here is the data dictionary\n",
    "#description - is a name that the company uses for tracking\n",
    "#longitude and latitude - location of a set of properties in that range or lat/long\n",
    "#housing median age - average ago of home in this lat/long\n",
    "#total rooms - total number of rooms in that lat/long\n",
    "#total bedrooms- total bedrooms in that lat/long\n",
    "#population -population in that lat/long\n",
    "#households - total number of households in that lat/long\n",
    "#median income -median income of people living in that lat/long\n",
    "#median house value - the median value of a house in that lat/long\n",
    "#ocean proximity - the location type of the property. allowed values are:\n",
    "    #'NEAR BAY', \n",
    "    #<1H OCEAN', \n",
    "    #'INLAND', \n",
    "    #'NEAR OCEAN', \n",
    "    #'ISLAND'\n",
    "\n",
    "#(84 points)\n"
   ]
  }
 ],
 "metadata": {
  "kernelspec": {
   "display_name": "Python 3 (ipykernel)",
   "language": "python",
   "name": "python3"
  },
  "language_info": {
   "codemirror_mode": {
    "name": "ipython",
    "version": 3
   },
   "file_extension": ".py",
   "mimetype": "text/x-python",
   "name": "python",
   "nbconvert_exporter": "python",
   "pygments_lexer": "ipython3",
   "version": "3.10.9"
  }
 },
 "nbformat": 4,
 "nbformat_minor": 5
}
