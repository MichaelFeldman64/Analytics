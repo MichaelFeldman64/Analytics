{
 "cells": [
  {
   "cell_type": "code",
   "execution_count": 2,
   "id": "85a35306",
   "metadata": {},
   "outputs": [],
   "source": [
    "#Final exam\n",
    "#Your name"
   ]
  },
  {
   "cell_type": "code",
   "execution_count": null,
   "id": "86e6cbee",
   "metadata": {},
   "outputs": [],
   "source": [
    "#1 there are two data dictionaries below - ones and tens \n",
    "# using the dictionaries the goal is to create python code that take input from the user \n",
    "#(between 20 #and 99) and turn the number into its written format. For example 53 will become \"fifty three\"\n",
    "#make sure to edit properly \n",
    "#(62 points)\n",
    "\n",
    "\n",
    "#code hints\n",
    "num = input('Please enter number here:')\n",
    "print(num[0]) #this shows tens position\n",
    "print(num[1]) #this shows ones position\n",
    "\n",
    "\n",
    "ones = {'0': 'zero',\n",
    "        '1': 'one',\n",
    "        '2': 'two',\n",
    "        '3': 'three',\n",
    "        '4': 'four',\n",
    "        '5': 'five',\n",
    "        '6': 'six',\n",
    "        '7': 'seven',\n",
    "        '8': 'eight',\n",
    "        '9': 'nine'\n",
    "        }\n",
    "\n",
    "tens = {\n",
    "        '2': 'twenty',\n",
    "        '3': 'thirty',\n",
    "        '4': 'fourty',\n",
    "        '5': 'fifty',\n",
    "        '6': 'sixty',\n",
    "        '7': 'seventy',\n",
    "        '8': 'eighty',\n",
    "        '9': 'ninety'\n",
    "        }"
   ]
  },
  {
   "cell_type": "code",
   "execution_count": 4,
   "id": "0700ad60",
   "metadata": {
    "scrolled": true
   },
   "outputs": [],
   "source": [
    "#2 #download the two files: lawyers.csv and lawyer_cases.csv from blackboad\n",
    "#the lawyer table has basic information on the lawyer (name, type of law they practice)\n",
    "#the lawyer_cases has table information on whether they won or lost the case, and if they won the case\n",
    "#or not. if they won the case, it states how much they won \n",
    "\n",
    "#print out the following at the end\n",
    "#which lawyer had the most total dollars?\n",
    "#which type of law won the the most total dollars?\n",
    "\n",
    "\n",
    "#note: the answer should contain the answer only, not a multi line dataset foin\n",
    "\n",
    "#Use the merge command as learned in Data Wranglng 1.  \n",
    "\n",
    "#(62 points)"
   ]
  },
  {
   "cell_type": "code",
   "execution_count": null,
   "id": "84786e17",
   "metadata": {},
   "outputs": [],
   "source": [
    "#3 the hsgfinal9650.csv dataset contains real estate information for an island. This file\n",
    "#was produced by a real estate company. the goal of the assignment is to predict the median house \n",
    "#value. Prepare the data and run a regression. You do not need to check for outliers. \n",
    "\n",
    "#here is the data dictionary\n",
    "#description - is a name that the company uses for tracking\n",
    "#longitude and latitude - location of a set of properties in that range or lat/long\n",
    "#housing median age - average ago of home in this lat/long\n",
    "#total rooms - total number of rooms in that lat/long\n",
    "#total bedrooms- total bedrooms in that lat/long\n",
    "#population -population in that lat/long\n",
    "#households - total number of households in that lat/long\n",
    "#median income -median income of people living in that lat/long\n",
    "#median house value - the median value of a house in that lat/long\n",
    "#ocean proximity - the location type of the property. allowed values are:\n",
    "    #'NEAR BAY', \n",
    "    #<1H OCEAN', \n",
    "    #'INLAND', \n",
    "    #'NEAR OCEAN', \n",
    "    #'ISLAND'\n",
    "\n",
    "#(62 points)\n"
   ]
  },
  {
   "cell_type": "code",
   "execution_count": null,
   "id": "e69d7cb1",
   "metadata": {},
   "outputs": [],
   "source": [
    "#question #4\n",
    "#from the following link:\n",
    "#https://en.wikipedia.org/wiki/Nasdaq_Composite\n",
    "\n",
    "#create a visualizization showing the trend over the last 15 years based on the \"index high\"\n",
    "#column. the data will not need any cleansing\n",
    "\n",
    "#use the requests library to being back the data . It is table 1 that has the data you will need \n",
    "\n",
    "#62 points "
   ]
  }
 ],
 "metadata": {
  "kernelspec": {
   "display_name": "Python 3 (ipykernel)",
   "language": "python",
   "name": "python3"
  },
  "language_info": {
   "codemirror_mode": {
    "name": "ipython",
    "version": 3
   },
   "file_extension": ".py",
   "mimetype": "text/x-python",
   "name": "python",
   "nbconvert_exporter": "python",
   "pygments_lexer": "ipython3",
   "version": "3.10.9"
  }
 },
 "nbformat": 4,
 "nbformat_minor": 5
}
